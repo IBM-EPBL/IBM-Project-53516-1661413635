{
  "cells": [
    {
      "cell_type": "markdown",
      "metadata": {
        "id": "6y0TVkIaCxL9"
      },
      "source": [
        "1.Download the dataset"
      ]
    },
    {
      "cell_type": "markdown",
      "metadata": {
        "id": "3xTOwbBaC2cp"
      },
      "source": [
        "2.Load the dataset "
      ]
    },
    {
      "cell_type": "code",
      "execution_count": 153,
      "metadata": {
        "id": "Yo65qK5MCqL5"
      },
      "outputs": [],
      "source": [
        "import pandas as pd"
      ]
    },
    {
      "cell_type": "code",
      "execution_count": 154,
      "metadata": {
        "colab": {
          "base_uri": "https://localhost:8080/",
          "height": 206
        },
        "id": "fbyOPGrCDeng",
        "outputId": "624a278f-aa38-47f5-84c1-e7690a48cc76"
      },
      "outputs": [
        {
          "output_type": "execute_result",
          "data": {
            "text/plain": [
              "   CustomerID  Gender  Age  Annual Income (k$)  Spending Score (1-100)\n",
              "0           1    Male   19                  15                      39\n",
              "1           2    Male   21                  15                      81\n",
              "2           3  Female   20                  16                       6\n",
              "3           4  Female   23                  16                      77\n",
              "4           5  Female   31                  17                      40"
            ],
            "text/html": [
              "\n",
              "  <div id=\"df-6358224f-3cee-4939-b28d-0da9b1625aaa\">\n",
              "    <div class=\"colab-df-container\">\n",
              "      <div>\n",
              "<style scoped>\n",
              "    .dataframe tbody tr th:only-of-type {\n",
              "        vertical-align: middle;\n",
              "    }\n",
              "\n",
              "    .dataframe tbody tr th {\n",
              "        vertical-align: top;\n",
              "    }\n",
              "\n",
              "    .dataframe thead th {\n",
              "        text-align: right;\n",
              "    }\n",
              "</style>\n",
              "<table border=\"1\" class=\"dataframe\">\n",
              "  <thead>\n",
              "    <tr style=\"text-align: right;\">\n",
              "      <th></th>\n",
              "      <th>CustomerID</th>\n",
              "      <th>Gender</th>\n",
              "      <th>Age</th>\n",
              "      <th>Annual Income (k$)</th>\n",
              "      <th>Spending Score (1-100)</th>\n",
              "    </tr>\n",
              "  </thead>\n",
              "  <tbody>\n",
              "    <tr>\n",
              "      <th>0</th>\n",
              "      <td>1</td>\n",
              "      <td>Male</td>\n",
              "      <td>19</td>\n",
              "      <td>15</td>\n",
              "      <td>39</td>\n",
              "    </tr>\n",
              "    <tr>\n",
              "      <th>1</th>\n",
              "      <td>2</td>\n",
              "      <td>Male</td>\n",
              "      <td>21</td>\n",
              "      <td>15</td>\n",
              "      <td>81</td>\n",
              "    </tr>\n",
              "    <tr>\n",
              "      <th>2</th>\n",
              "      <td>3</td>\n",
              "      <td>Female</td>\n",
              "      <td>20</td>\n",
              "      <td>16</td>\n",
              "      <td>6</td>\n",
              "    </tr>\n",
              "    <tr>\n",
              "      <th>3</th>\n",
              "      <td>4</td>\n",
              "      <td>Female</td>\n",
              "      <td>23</td>\n",
              "      <td>16</td>\n",
              "      <td>77</td>\n",
              "    </tr>\n",
              "    <tr>\n",
              "      <th>4</th>\n",
              "      <td>5</td>\n",
              "      <td>Female</td>\n",
              "      <td>31</td>\n",
              "      <td>17</td>\n",
              "      <td>40</td>\n",
              "    </tr>\n",
              "  </tbody>\n",
              "</table>\n",
              "</div>\n",
              "      <button class=\"colab-df-convert\" onclick=\"convertToInteractive('df-6358224f-3cee-4939-b28d-0da9b1625aaa')\"\n",
              "              title=\"Convert this dataframe to an interactive table.\"\n",
              "              style=\"display:none;\">\n",
              "        \n",
              "  <svg xmlns=\"http://www.w3.org/2000/svg\" height=\"24px\"viewBox=\"0 0 24 24\"\n",
              "       width=\"24px\">\n",
              "    <path d=\"M0 0h24v24H0V0z\" fill=\"none\"/>\n",
              "    <path d=\"M18.56 5.44l.94 2.06.94-2.06 2.06-.94-2.06-.94-.94-2.06-.94 2.06-2.06.94zm-11 1L8.5 8.5l.94-2.06 2.06-.94-2.06-.94L8.5 2.5l-.94 2.06-2.06.94zm10 10l.94 2.06.94-2.06 2.06-.94-2.06-.94-.94-2.06-.94 2.06-2.06.94z\"/><path d=\"M17.41 7.96l-1.37-1.37c-.4-.4-.92-.59-1.43-.59-.52 0-1.04.2-1.43.59L10.3 9.45l-7.72 7.72c-.78.78-.78 2.05 0 2.83L4 21.41c.39.39.9.59 1.41.59.51 0 1.02-.2 1.41-.59l7.78-7.78 2.81-2.81c.8-.78.8-2.07 0-2.86zM5.41 20L4 18.59l7.72-7.72 1.47 1.35L5.41 20z\"/>\n",
              "  </svg>\n",
              "      </button>\n",
              "      \n",
              "  <style>\n",
              "    .colab-df-container {\n",
              "      display:flex;\n",
              "      flex-wrap:wrap;\n",
              "      gap: 12px;\n",
              "    }\n",
              "\n",
              "    .colab-df-convert {\n",
              "      background-color: #E8F0FE;\n",
              "      border: none;\n",
              "      border-radius: 50%;\n",
              "      cursor: pointer;\n",
              "      display: none;\n",
              "      fill: #1967D2;\n",
              "      height: 32px;\n",
              "      padding: 0 0 0 0;\n",
              "      width: 32px;\n",
              "    }\n",
              "\n",
              "    .colab-df-convert:hover {\n",
              "      background-color: #E2EBFA;\n",
              "      box-shadow: 0px 1px 2px rgba(60, 64, 67, 0.3), 0px 1px 3px 1px rgba(60, 64, 67, 0.15);\n",
              "      fill: #174EA6;\n",
              "    }\n",
              "\n",
              "    [theme=dark] .colab-df-convert {\n",
              "      background-color: #3B4455;\n",
              "      fill: #D2E3FC;\n",
              "    }\n",
              "\n",
              "    [theme=dark] .colab-df-convert:hover {\n",
              "      background-color: #434B5C;\n",
              "      box-shadow: 0px 1px 3px 1px rgba(0, 0, 0, 0.15);\n",
              "      filter: drop-shadow(0px 1px 2px rgba(0, 0, 0, 0.3));\n",
              "      fill: #FFFFFF;\n",
              "    }\n",
              "  </style>\n",
              "\n",
              "      <script>\n",
              "        const buttonEl =\n",
              "          document.querySelector('#df-6358224f-3cee-4939-b28d-0da9b1625aaa button.colab-df-convert');\n",
              "        buttonEl.style.display =\n",
              "          google.colab.kernel.accessAllowed ? 'block' : 'none';\n",
              "\n",
              "        async function convertToInteractive(key) {\n",
              "          const element = document.querySelector('#df-6358224f-3cee-4939-b28d-0da9b1625aaa');\n",
              "          const dataTable =\n",
              "            await google.colab.kernel.invokeFunction('convertToInteractive',\n",
              "                                                     [key], {});\n",
              "          if (!dataTable) return;\n",
              "\n",
              "          const docLinkHtml = 'Like what you see? Visit the ' +\n",
              "            '<a target=\"_blank\" href=https://colab.research.google.com/notebooks/data_table.ipynb>data table notebook</a>'\n",
              "            + ' to learn more about interactive tables.';\n",
              "          element.innerHTML = '';\n",
              "          dataTable['output_type'] = 'display_data';\n",
              "          await google.colab.output.renderOutput(dataTable, element);\n",
              "          const docLink = document.createElement('div');\n",
              "          docLink.innerHTML = docLinkHtml;\n",
              "          element.appendChild(docLink);\n",
              "        }\n",
              "      </script>\n",
              "    </div>\n",
              "  </div>\n",
              "  "
            ]
          },
          "metadata": {},
          "execution_count": 154
        }
      ],
      "source": [
        "dataframe = pd.read_csv('Mall_Customers.csv')\n",
        "dataframe.head()"
      ]
    },
    {
      "cell_type": "markdown",
      "metadata": {
        "id": "ki9MSpbuDIbW"
      },
      "source": [
        "Dataset is loaded"
      ]
    },
    {
      "cell_type": "code",
      "execution_count": 155,
      "metadata": {
        "colab": {
          "base_uri": "https://localhost:8080/"
        },
        "id": "ropm9aZyDpGT",
        "outputId": "712d2d1a-2c28-4058-ba57-ecc94865fef1"
      },
      "outputs": [
        {
          "output_type": "stream",
          "name": "stdout",
          "text": [
            "<class 'pandas.core.frame.DataFrame'>\n",
            "RangeIndex: 200 entries, 0 to 199\n",
            "Data columns (total 5 columns):\n",
            " #   Column                  Non-Null Count  Dtype \n",
            "---  ------                  --------------  ----- \n",
            " 0   CustomerID              200 non-null    int64 \n",
            " 1   Gender                  200 non-null    object\n",
            " 2   Age                     200 non-null    int64 \n",
            " 3   Annual Income (k$)      200 non-null    int64 \n",
            " 4   Spending Score (1-100)  200 non-null    int64 \n",
            "dtypes: int64(4), object(1)\n",
            "memory usage: 7.9+ KB\n"
          ]
        }
      ],
      "source": [
        "dataframe.info()"
      ]
    },
    {
      "cell_type": "code",
      "execution_count": 156,
      "metadata": {
        "id": "iegmG0RdFN2E"
      },
      "outputs": [],
      "source": [
        "dataframe.rename(columns = {'Annual Income (k$)':'annual_income'}, inplace = True)"
      ]
    },
    {
      "cell_type": "code",
      "execution_count": 157,
      "metadata": {
        "id": "PBpk_UyUFcx6"
      },
      "outputs": [],
      "source": [
        "dataframe.rename(columns = {'Spending Score (1-100)':'spending_score'}, inplace = True)"
      ]
    },
    {
      "cell_type": "markdown",
      "metadata": {
        "id": "4jEBjTPADl3N"
      },
      "source": [
        "3.Visualizations ( Univariant , Bivariant , Multivariant )"
      ]
    },
    {
      "cell_type": "markdown",
      "metadata": {
        "id": "N5BP31FsD2a8"
      },
      "source": [
        "A.Univariant Analysis"
      ]
    },
    {
      "cell_type": "code",
      "execution_count": 158,
      "metadata": {
        "colab": {
          "base_uri": "https://localhost:8080/"
        },
        "id": "MNkuZjLeD1j8",
        "outputId": "0ae2ffa8-c265-47e1-e6ee-f9e58aff56dd"
      },
      "outputs": [
        {
          "output_type": "execute_result",
          "data": {
            "text/plain": [
              "60.56"
            ]
          },
          "metadata": {},
          "execution_count": 158
        }
      ],
      "source": [
        "dataframe[\"annual_income\"].mean()"
      ]
    },
    {
      "cell_type": "code",
      "execution_count": 159,
      "metadata": {
        "colab": {
          "base_uri": "https://localhost:8080/"
        },
        "id": "P6uxBIdkEGzc",
        "outputId": "fda5fd13-a235-43b0-a472-92fb1fb98f78"
      },
      "outputs": [
        {
          "output_type": "execute_result",
          "data": {
            "text/plain": [
              "26.264721165271244"
            ]
          },
          "metadata": {},
          "execution_count": 159
        }
      ],
      "source": [
        "dataframe[\"annual_income\"].std()"
      ]
    },
    {
      "cell_type": "code",
      "execution_count": 160,
      "metadata": {
        "colab": {
          "base_uri": "https://localhost:8080/"
        },
        "id": "jWjjdyGiEO3Y",
        "outputId": "941779d0-cec8-4a01-ad9c-931868cc78c7"
      },
      "outputs": [
        {
          "output_type": "execute_result",
          "data": {
            "text/plain": [
              "54     12\n",
              "78     12\n",
              "48      6\n",
              "71      6\n",
              "63      6\n",
              "       ..\n",
              "58      2\n",
              "59      2\n",
              "16      2\n",
              "64      2\n",
              "137     2\n",
              "Name: annual_income, Length: 64, dtype: int64"
            ]
          },
          "metadata": {},
          "execution_count": 160
        }
      ],
      "source": [
        "dataframe['annual_income'].value_counts()"
      ]
    },
    {
      "cell_type": "code",
      "execution_count": 161,
      "metadata": {
        "colab": {
          "base_uri": "https://localhost:8080/",
          "height": 283
        },
        "id": "wt6_Jou4EV5G",
        "outputId": "219c3525-2521-42c4-d219-47a9a1cb942a"
      },
      "outputs": [
        {
          "output_type": "execute_result",
          "data": {
            "text/plain": [
              "<matplotlib.axes._subplots.AxesSubplot at 0x7f1806f29d10>"
            ]
          },
          "metadata": {},
          "execution_count": 161
        },
        {
          "output_type": "display_data",
          "data": {
            "text/plain": [
              "<Figure size 432x288 with 1 Axes>"
            ],
            "image/png": "[encoded data removed]"
          },
          "metadata": {
            "needs_background": "light"
          }
        }
      ],
      "source": [
        "import matplotlib.pyplot as plt\n",
        "dataframe.boxplot(column=['annual_income'],grid=False)"
      ]
    },
    {
      "cell_type": "markdown",
      "metadata": {
        "id": "HcPw9kU-EfZg"
      },
      "source": [
        "B.Bivariant Analysis"
      ]
    },
    {
      "cell_type": "code",
      "execution_count": 162,
      "metadata": {
        "colab": {
          "base_uri": "https://localhost:8080/",
          "height": 312
        },
        "id": "SxDd_JAmEcuu",
        "outputId": "6a160f63-1b32-4005-bf9a-bceee1bc65c3"
      },
      "outputs": [
        {
          "output_type": "execute_result",
          "data": {
            "text/plain": [
              "Text(0, 0.5, 'Annual Income')"
            ]
          },
          "metadata": {},
          "execution_count": 162
        },
        {
          "output_type": "display_data",
          "data": {
            "text/plain": [
              "<Figure size 432x288 with 1 Axes>"
            ],
            "image/png": "[encoded data removed]"
          },
          "metadata": {
            "needs_background": "light"
          }
        }
      ],
      "source": [
        "plt.scatter(dataframe.Age,dataframe.annual_income)\n",
        "plt.title('Age vs Annual Income')\n",
        "plt.xlabel('Age')\n",
        "plt.ylabel('Annual Income')"
      ]
    },
    {
      "cell_type": "code",
      "execution_count": 163,
      "metadata": {
        "colab": {
          "base_uri": "https://localhost:8080/",
          "height": 296
        },
        "id": "h3C-JKdgExoB",
        "outputId": "0c68e8b1-9955-4daa-8dea-9692e35636f0"
      },
      "outputs": [
        {
          "output_type": "execute_result",
          "data": {
            "text/plain": [
              "<matplotlib.axes._subplots.AxesSubplot at 0x7f180834bd10>"
            ]
          },
          "metadata": {},
          "execution_count": 163
        },
        {
          "output_type": "display_data",
          "data": {
            "text/plain": [
              "<Figure size 432x288 with 1 Axes>"
            ],
            "image/png": "[encoded data removed]"
          },
          "metadata": {
            "needs_background": "light"
          }
        }
      ],
      "source": [
        "import seaborn as sns\n",
        "sns.barplot(x='Age',y='annual_income',data = dataframe)"
      ]
    },
    {
      "cell_type": "code",
      "execution_count": 164,
      "metadata": {
        "colab": {
          "base_uri": "https://localhost:8080/",
          "height": 338
        },
        "id": "rUT34khoKnrB",
        "outputId": "55b745f9-04b7-4527-c5de-1d70897d79cc"
      },
      "outputs": [
        {
          "output_type": "execute_result",
          "data": {
            "text/plain": [
              "<matplotlib.axes._subplots.AxesSubplot at 0x7f1807142750>"
            ]
          },
          "metadata": {},
          "execution_count": 164
        },
        {
          "output_type": "display_data",
          "data": {
            "text/plain": [
              "<Figure size 936x432 with 1 Axes>"
            ],
            "image/png": "[encoded data removed]"
          },
          "metadata": {
            "needs_background": "light"
          }
        }
      ],
      "source": [
        "dataframe['annual_income'].value_counts().plot.bar(figsize = (13, 6))"
      ]
    },
    {
      "cell_type": "code",
      "execution_count": 165,
      "metadata": {
        "colab": {
          "base_uri": "https://localhost:8080/",
          "height": 256
        },
        "id": "XFuApol_K3Dr",
        "outputId": "6a4684d7-1154-487a-a1e5-7392162fd7dd"
      },
      "outputs": [
        {
          "output_type": "execute_result",
          "data": {
            "text/plain": [
              "<matplotlib.axes._subplots.AxesSubplot at 0x7f1806c8dbd0>"
            ]
          },
          "metadata": {},
          "execution_count": 165
        },
        {
          "output_type": "display_data",
          "data": {
            "text/plain": [
              "<Figure size 1080x360 with 1 Axes>"
            ],
            "image/png": "[encoded data removed]"
          },
          "metadata": {
            "needs_background": "light"
          }
        }
      ],
      "source": [
        "dataframe['spending_score'].value_counts().plot.bar(figsize = (15, 5))"
      ]
    },
    {
      "cell_type": "markdown",
      "metadata": {
        "id": "PJLKlu42GxNt"
      },
      "source": [
        "C.Multi-Variate Analysis"
      ]
    },
    {
      "cell_type": "code",
      "execution_count": 166,
      "metadata": {
        "colab": {
          "base_uri": "https://localhost:8080/",
          "height": 663
        },
        "id": "3U412yftGoAR",
        "outputId": "3ac8b8e0-89c4-4d02-87e2-6588ab3d058b"
      },
      "outputs": [
        {
          "output_type": "execute_result",
          "data": {
            "text/plain": [
              "<seaborn.axisgrid.PairGrid at 0x7f1806a46050>"
            ]
          },
          "metadata": {},
          "execution_count": 166
        },
        {
          "output_type": "display_data",
          "data": {
            "text/plain": [
              "<Figure size 720x720 with 20 Axes>"
            ],
            "image/png": "[encoded data removed]"
          },
          "metadata": {
            "needs_background": "light"
          }
        }
      ],
      "source": [
        "sns.pairplot(dataframe)"
      ]
    },
    {
      "cell_type": "markdown",
      "metadata": {
        "id": "DyqsfhGLHOBm"
      },
      "source": [
        "4. Perform descriptive statistics on the dataset"
      ]
    },
    {
      "cell_type": "code",
      "execution_count": 167,
      "metadata": {
        "colab": {
          "base_uri": "https://localhost:8080/",
          "height": 175
        },
        "id": "32DM5dTrG0bS",
        "outputId": "60dc005e-cf53-4f25-9f8b-d74900bff3c1"
      },
      "outputs": [
        {
          "output_type": "execute_result",
          "data": {
            "text/plain": [
              "                CustomerID       Age  annual_income  spending_score\n",
              "CustomerID        1.000000 -0.026763       0.977548        0.013835\n",
              "Age              -0.026763  1.000000      -0.012398       -0.327227\n",
              "annual_income     0.977548 -0.012398       1.000000        0.009903\n",
              "spending_score    0.013835 -0.327227       0.009903        1.000000"
            ],
            "text/html": [
              "\n",
              "  <div id=\"df-dede8310-6198-44f5-82cc-19b00ef159c3\">\n",
              "    <div class=\"colab-df-container\">\n",
              "      <div>\n",
              "<style scoped>\n",
              "    .dataframe tbody tr th:only-of-type {\n",
              "        vertical-align: middle;\n",
              "    }\n",
              "\n",
              "    .dataframe tbody tr th {\n",
              "        vertical-align: top;\n",
              "    }\n",
              "\n",
              "    .dataframe thead th {\n",
              "        text-align: right;\n",
              "    }\n",
              "</style>\n",
              "<table border=\"1\" class=\"dataframe\">\n",
              "  <thead>\n",
              "    <tr style=\"text-align: right;\">\n",
              "      <th></th>\n",
              "      <th>CustomerID</th>\n",
              "      <th>Age</th>\n",
              "      <th>annual_income</th>\n",
              "      <th>spending_score</th>\n",
              "    </tr>\n",
              "  </thead>\n",
              "  <tbody>\n",
              "    <tr>\n",
              "      <th>CustomerID</th>\n",
              "      <td>1.000000</td>\n",
              "      <td>-0.026763</td>\n",
              "      <td>0.977548</td>\n",
              "      <td>0.013835</td>\n",
              "    </tr>\n",
              "    <tr>\n",
              "      <th>Age</th>\n",
              "      <td>-0.026763</td>\n",
              "      <td>1.000000</td>\n",
              "      <td>-0.012398</td>\n",
              "      <td>-0.327227</td>\n",
              "    </tr>\n",
              "    <tr>\n",
              "      <th>annual_income</th>\n",
              "      <td>0.977548</td>\n",
              "      <td>-0.012398</td>\n",
              "      <td>1.000000</td>\n",
              "      <td>0.009903</td>\n",
              "    </tr>\n",
              "    <tr>\n",
              "      <th>spending_score</th>\n",
              "      <td>0.013835</td>\n",
              "      <td>-0.327227</td>\n",
              "      <td>0.009903</td>\n",
              "      <td>1.000000</td>\n",
              "    </tr>\n",
              "  </tbody>\n",
              "</table>\n",
              "</div>\n",
              "      <button class=\"colab-df-convert\" onclick=\"convertToInteractive('df-dede8310-6198-44f5-82cc-19b00ef159c3')\"\n",
              "              title=\"Convert this dataframe to an interactive table.\"\n",
              "              style=\"display:none;\">\n",
              "        \n",
              "  <svg xmlns=\"http://www.w3.org/2000/svg\" height=\"24px\"viewBox=\"0 0 24 24\"\n",
              "       width=\"24px\">\n",
              "    <path d=\"M0 0h24v24H0V0z\" fill=\"none\"/>\n",
              "    <path d=\"M18.56 5.44l.94 2.06.94-2.06 2.06-.94-2.06-.94-.94-2.06-.94 2.06-2.06.94zm-11 1L8.5 8.5l.94-2.06 2.06-.94-2.06-.94L8.5 2.5l-.94 2.06-2.06.94zm10 10l.94 2.06.94-2.06 2.06-.94-2.06-.94-.94-2.06-.94 2.06-2.06.94z\"/><path d=\"M17.41 7.96l-1.37-1.37c-.4-.4-.92-.59-1.43-.59-.52 0-1.04.2-1.43.59L10.3 9.45l-7.72 7.72c-.78.78-.78 2.05 0 2.83L4 21.41c.39.39.9.59 1.41.59.51 0 1.02-.2 1.41-.59l7.78-7.78 2.81-2.81c.8-.78.8-2.07 0-2.86zM5.41 20L4 18.59l7.72-7.72 1.47 1.35L5.41 20z\"/>\n",
              "  </svg>\n",
              "      </button>\n",
              "      \n",
              "  <style>\n",
              "    .colab-df-container {\n",
              "      display:flex;\n",
              "      flex-wrap:wrap;\n",
              "      gap: 12px;\n",
              "    }\n",
              "\n",
              "    .colab-df-convert {\n",
              "      background-color: #E8F0FE;\n",
              "      border: none;\n",
              "      border-radius: 50%;\n",
              "      cursor: pointer;\n",
              "      display: none;\n",
              "      fill: #1967D2;\n",
              "      height: 32px;\n",
              "      padding: 0 0 0 0;\n",
              "      width: 32px;\n",
              "    }\n",
              "\n",
              "    .colab-df-convert:hover {\n",
              "      background-color: #E2EBFA;\n",
              "      box-shadow: 0px 1px 2px rgba(60, 64, 67, 0.3), 0px 1px 3px 1px rgba(60, 64, 67, 0.15);\n",
              "      fill: #174EA6;\n",
              "    }\n",
              "\n",
              "    [theme=dark] .colab-df-convert {\n",
              "      background-color: #3B4455;\n",
              "      fill: #D2E3FC;\n",
              "    }\n",
              "\n",
              "    [theme=dark] .colab-df-convert:hover {\n",
              "      background-color: #434B5C;\n",
              "      box-shadow: 0px 1px 3px 1px rgba(0, 0, 0, 0.15);\n",
              "      filter: drop-shadow(0px 1px 2px rgba(0, 0, 0, 0.3));\n",
              "      fill: #FFFFFF;\n",
              "    }\n",
              "  </style>\n",
              "\n",
              "      <script>\n",
              "        const buttonEl =\n",
              "          document.querySelector('#df-dede8310-6198-44f5-82cc-19b00ef159c3 button.colab-df-convert');\n",
              "        buttonEl.style.display =\n",
              "          google.colab.kernel.accessAllowed ? 'block' : 'none';\n",
              "\n",
              "        async function convertToInteractive(key) {\n",
              "          const element = document.querySelector('#df-dede8310-6198-44f5-82cc-19b00ef159c3');\n",
              "          const dataTable =\n",
              "            await google.colab.kernel.invokeFunction('convertToInteractive',\n",
              "                                                     [key], {});\n",
              "          if (!dataTable) return;\n",
              "\n",
              "          const docLinkHtml = 'Like what you see? Visit the ' +\n",
              "            '<a target=\"_blank\" href=https://colab.research.google.com/notebooks/data_table.ipynb>data table notebook</a>'\n",
              "            + ' to learn more about interactive tables.';\n",
              "          element.innerHTML = '';\n",
              "          dataTable['output_type'] = 'display_data';\n",
              "          await google.colab.output.renderOutput(dataTable, element);\n",
              "          const docLink = document.createElement('div');\n",
              "          docLink.innerHTML = docLinkHtml;\n",
              "          element.appendChild(docLink);\n",
              "        }\n",
              "      </script>\n",
              "    </div>\n",
              "  </div>\n",
              "  "
            ]
          },
          "metadata": {},
          "execution_count": 167
        }
      ],
      "source": [
        "dataframe.corr()"
      ]
    },
    {
      "cell_type": "code",
      "execution_count": 168,
      "metadata": {
        "colab": {
          "base_uri": "https://localhost:8080/",
          "height": 354
        },
        "id": "-ftCU8JlHRbZ",
        "outputId": "4dacaf07-5770-49fd-bdf9-e352f7539641"
      },
      "outputs": [
        {
          "output_type": "execute_result",
          "data": {
            "text/plain": [
              "<matplotlib.axes._subplots.AxesSubplot at 0x7f1806377990>"
            ]
          },
          "metadata": {},
          "execution_count": 168
        },
        {
          "output_type": "display_data",
          "data": {
            "text/plain": [
              "<Figure size 432x288 with 2 Axes>"
            ],
            "image/png": "[encoded data removed]"
          },
          "metadata": {
            "needs_background": "light"
          }
        }
      ],
      "source": [
        "sns.heatmap(dataframe.corr())"
      ]
    },
    {
      "cell_type": "code",
      "execution_count": 169,
      "metadata": {
        "colab": {
          "base_uri": "https://localhost:8080/",
          "height": 292
        },
        "id": "j9RYrdG0LAQo",
        "outputId": "71f21b70-f668-4caf-bac5-fff76b0c09b7"
      },
      "outputs": [
        {
          "output_type": "execute_result",
          "data": {
            "text/plain": [
              "<matplotlib.image.AxesImage at 0x7f180627ed10>"
            ]
          },
          "metadata": {},
          "execution_count": 169
        },
        {
          "output_type": "display_data",
          "data": {
            "text/plain": [
              "<Figure size 288x288 with 1 Axes>"
            ],
            "image/png": "[encoded data removed]"
          },
          "metadata": {
            "needs_background": "light"
          }
        }
      ],
      "source": [
        "plt.matshow(dataframe.corr())"
      ]
    },
    {
      "cell_type": "markdown",
      "metadata": {
        "id": "xpJ3NFJZHhma"
      },
      "source": [
        "5.Check for Missing values and deal with them."
      ]
    },
    {
      "cell_type": "code",
      "execution_count": 170,
      "metadata": {
        "colab": {
          "base_uri": "https://localhost:8080/"
        },
        "id": "jHcZA8JaHVtI",
        "outputId": "c4c534b1-2176-4da1-86b3-d920679dd02d"
      },
      "outputs": [
        {
          "output_type": "execute_result",
          "data": {
            "text/plain": [
              "CustomerID        False\n",
              "Gender            False\n",
              "Age               False\n",
              "annual_income     False\n",
              "spending_score    False\n",
              "dtype: bool"
            ]
          },
          "metadata": {},
          "execution_count": 170
        }
      ],
      "source": [
        "dataframe.isnull().any()"
      ]
    },
    {
      "cell_type": "markdown",
      "metadata": {
        "id": "Pq3NMBo7Hq65"
      },
      "source": [
        "There are no missing values in this dataset . So there is no need to handle the missing values ."
      ]
    },
    {
      "cell_type": "markdown",
      "metadata": {
        "id": "wO2C9psoHuqK"
      },
      "source": [
        "6.Find the outliers and replace them outliers"
      ]
    },
    {
      "cell_type": "code",
      "execution_count": 171,
      "metadata": {
        "colab": {
          "base_uri": "https://localhost:8080/",
          "height": 283
        },
        "id": "EEkyAVx7Hl_4",
        "outputId": "564866e7-e9f3-4c67-ded1-c984cd2b4a52"
      },
      "outputs": [
        {
          "output_type": "execute_result",
          "data": {
            "text/plain": [
              "<matplotlib.axes._subplots.AxesSubplot at 0x7f180623ca50>"
            ]
          },
          "metadata": {},
          "execution_count": 171
        },
        {
          "output_type": "display_data",
          "data": {
            "text/plain": [
              "<Figure size 432x288 with 1 Axes>"
            ],
            "image/png": "[encoded data removed]"
          },
          "metadata": {
            "needs_background": "light"
          }
        }
      ],
      "source": [
        "q_low = dataframe[\"annual_income\"].quantile(0.01)\n",
        "q_hi  = dataframe[\"annual_income\"].quantile(0.99)\n",
        "\n",
        "df_filtered = dataframe[(dataframe[\"annual_income\"] < q_hi) & (dataframe[\"annual_income\"] > q_low)]\n",
        "df_filtered.boxplot(column=['annual_income'],grid=False)"
      ]
    },
    {
      "cell_type": "markdown",
      "metadata": {
        "id": "4Y259AdXIwk7"
      },
      "source": [
        "7.Check for Categorical columns and perform encoding."
      ]
    },
    {
      "cell_type": "code",
      "execution_count": 172,
      "metadata": {
        "colab": {
          "base_uri": "https://localhost:8080/"
        },
        "id": "H0JRUlnlIo8Y",
        "outputId": "79b4b209-62ec-4f9a-939b-066966e89010"
      },
      "outputs": [
        {
          "output_type": "execute_result",
          "data": {
            "text/plain": [
              "0        Male\n",
              "1        Male\n",
              "2      Female\n",
              "3      Female\n",
              "4      Female\n",
              "        ...  \n",
              "195    Female\n",
              "196    Female\n",
              "197      Male\n",
              "198      Male\n",
              "199      Male\n",
              "Name: Gender, Length: 200, dtype: object"
            ]
          },
          "metadata": {},
          "execution_count": 172
        }
      ],
      "source": [
        "dataframe[\"Gender\"]"
      ]
    },
    {
      "cell_type": "code",
      "execution_count": 173,
      "metadata": {
        "id": "KXe8vxCBI4cC"
      },
      "outputs": [],
      "source": [
        "from sklearn import preprocessing"
      ]
    },
    {
      "cell_type": "code",
      "execution_count": 174,
      "metadata": {
        "id": "Y9Yy0jgDI-lO"
      },
      "outputs": [],
      "source": [
        "label_encoder = preprocessing.LabelEncoder()\n",
        "dataframe['Gender'] = label_encoder.fit_transform(dataframe['Gender'])  "
      ]
    },
    {
      "cell_type": "code",
      "execution_count": 175,
      "metadata": {
        "colab": {
          "base_uri": "https://localhost:8080/"
        },
        "id": "qYWXdU4pJJNp",
        "outputId": "3f69d0ed-60ca-4659-d926-acb858a34b73"
      },
      "outputs": [
        {
          "output_type": "execute_result",
          "data": {
            "text/plain": [
              "0      1\n",
              "1      1\n",
              "2      0\n",
              "3      0\n",
              "4      0\n",
              "      ..\n",
              "195    0\n",
              "196    0\n",
              "197    1\n",
              "198    1\n",
              "199    1\n",
              "Name: Gender, Length: 200, dtype: int64"
            ]
          },
          "metadata": {},
          "execution_count": 175
        }
      ],
      "source": [
        "dataframe[\"Gender\"]"
      ]
    },
    {
      "cell_type": "markdown",
      "metadata": {
        "id": "pE8r-DbnJRJw"
      },
      "source": [
        "8.scaling the data"
      ]
    },
    {
      "cell_type": "code",
      "execution_count": 176,
      "metadata": {
        "id": "qNfQo_oOJMh0"
      },
      "outputs": [],
      "source": [
        "X = dataframe.drop(\"Age\",axis=1)\n",
        "Y = dataframe['Age']"
      ]
    },
    {
      "cell_type": "code",
      "source": [
        "from sklearn.preprocessing import StandardScaler\n",
        "object= StandardScaler()\n",
        "scale = object.fit_transform(X) \n",
        "print(scale)"
      ],
      "metadata": {
        "colab": {
          "base_uri": "https://localhost:8080/"
        },
        "id": "y7rCIfizWUeK",
        "outputId": "b4c972e6-4bec-4154-9845-d96ec8aa6cb9"
      },
      "execution_count": 177,
      "outputs": [
        {
          "output_type": "stream",
          "name": "stdout",
          "text": [
            "[[-1.7234121   1.12815215 -1.73899919 -0.43480148]\n",
            " [-1.70609137  1.12815215 -1.73899919  1.19570407]\n",
            " [-1.68877065 -0.88640526 -1.70082976 -1.71591298]\n",
            " [-1.67144992 -0.88640526 -1.70082976  1.04041783]\n",
            " [-1.6541292  -0.88640526 -1.66266033 -0.39597992]\n",
            " [-1.63680847 -0.88640526 -1.66266033  1.00159627]\n",
            " [-1.61948775 -0.88640526 -1.62449091 -1.71591298]\n",
            " [-1.60216702 -0.88640526 -1.62449091  1.70038436]\n",
            " [-1.5848463   1.12815215 -1.58632148 -1.83237767]\n",
            " [-1.56752558 -0.88640526 -1.58632148  0.84631002]\n",
            " [-1.55020485  1.12815215 -1.58632148 -1.4053405 ]\n",
            " [-1.53288413 -0.88640526 -1.58632148  1.89449216]\n",
            " [-1.5155634  -0.88640526 -1.54815205 -1.36651894]\n",
            " [-1.49824268 -0.88640526 -1.54815205  1.04041783]\n",
            " [-1.48092195  1.12815215 -1.54815205 -1.44416206]\n",
            " [-1.46360123  1.12815215 -1.54815205  1.11806095]\n",
            " [-1.4462805  -0.88640526 -1.50998262 -0.59008772]\n",
            " [-1.42895978  1.12815215 -1.50998262  0.61338066]\n",
            " [-1.41163905  1.12815215 -1.43364376 -0.82301709]\n",
            " [-1.39431833 -0.88640526 -1.43364376  1.8556706 ]\n",
            " [-1.3769976   1.12815215 -1.39547433 -0.59008772]\n",
            " [-1.35967688  1.12815215 -1.39547433  0.88513158]\n",
            " [-1.34235616 -0.88640526 -1.3573049  -1.75473454]\n",
            " [-1.32503543  1.12815215 -1.3573049   0.88513158]\n",
            " [-1.30771471 -0.88640526 -1.24279661 -1.4053405 ]\n",
            " [-1.29039398  1.12815215 -1.24279661  1.23452563]\n",
            " [-1.27307326 -0.88640526 -1.24279661 -0.7065524 ]\n",
            " [-1.25575253  1.12815215 -1.24279661  0.41927286]\n",
            " [-1.23843181 -0.88640526 -1.20462718 -0.74537397]\n",
            " [-1.22111108 -0.88640526 -1.20462718  1.42863343]\n",
            " [-1.20379036  1.12815215 -1.16645776 -1.7935561 ]\n",
            " [-1.18646963 -0.88640526 -1.16645776  0.88513158]\n",
            " [-1.16914891  1.12815215 -1.05194947 -1.7935561 ]\n",
            " [-1.15182818  1.12815215 -1.05194947  1.62274124]\n",
            " [-1.13450746 -0.88640526 -1.05194947 -1.4053405 ]\n",
            " [-1.11718674 -0.88640526 -1.05194947  1.19570407]\n",
            " [-1.09986601 -0.88640526 -1.01378004 -1.28887582]\n",
            " [-1.08254529 -0.88640526 -1.01378004  0.88513158]\n",
            " [-1.06522456 -0.88640526 -0.89927175 -0.93948177]\n",
            " [-1.04790384 -0.88640526 -0.89927175  0.96277471]\n",
            " [-1.03058311 -0.88640526 -0.86110232 -0.59008772]\n",
            " [-1.01326239  1.12815215 -0.86110232  1.62274124]\n",
            " [-0.99594166  1.12815215 -0.82293289 -0.55126616]\n",
            " [-0.97862094 -0.88640526 -0.82293289  0.41927286]\n",
            " [-0.96130021 -0.88640526 -0.82293289 -0.86183865]\n",
            " [-0.94397949 -0.88640526 -0.82293289  0.5745591 ]\n",
            " [-0.92665877 -0.88640526 -0.78476346  0.18634349]\n",
            " [-0.90933804 -0.88640526 -0.78476346 -0.12422899]\n",
            " [-0.89201732 -0.88640526 -0.78476346 -0.3183368 ]\n",
            " [-0.87469659 -0.88640526 -0.78476346 -0.3183368 ]\n",
            " [-0.85737587 -0.88640526 -0.70842461  0.06987881]\n",
            " [-0.84005514  1.12815215 -0.70842461  0.38045129]\n",
            " [-0.82273442 -0.88640526 -0.67025518  0.14752193]\n",
            " [-0.80541369  1.12815215 -0.67025518  0.38045129]\n",
            " [-0.78809297 -0.88640526 -0.67025518 -0.20187212]\n",
            " [-0.77077224  1.12815215 -0.67025518 -0.35715836]\n",
            " [-0.75345152 -0.88640526 -0.63208575 -0.00776431]\n",
            " [-0.73613079  1.12815215 -0.63208575 -0.16305055]\n",
            " [-0.71881007 -0.88640526 -0.55574689  0.03105725]\n",
            " [-0.70148935  1.12815215 -0.55574689 -0.16305055]\n",
            " [-0.68416862  1.12815215 -0.55574689  0.22516505]\n",
            " [-0.6668479   1.12815215 -0.55574689  0.18634349]\n",
            " [-0.64952717 -0.88640526 -0.51757746  0.06987881]\n",
            " [-0.63220645 -0.88640526 -0.51757746  0.34162973]\n",
            " [-0.61488572  1.12815215 -0.47940803  0.03105725]\n",
            " [-0.597565    1.12815215 -0.47940803  0.34162973]\n",
            " [-0.58024427 -0.88640526 -0.47940803 -0.00776431]\n",
            " [-0.56292355 -0.88640526 -0.47940803 -0.08540743]\n",
            " [-0.54560282  1.12815215 -0.47940803  0.34162973]\n",
            " [-0.5282821  -0.88640526 -0.47940803 -0.12422899]\n",
            " [-0.51096138  1.12815215 -0.4412386   0.18634349]\n",
            " [-0.49364065 -0.88640526 -0.4412386  -0.3183368 ]\n",
            " [-0.47631993 -0.88640526 -0.40306917 -0.04658587]\n",
            " [-0.4589992  -0.88640526 -0.40306917  0.22516505]\n",
            " [-0.44167848  1.12815215 -0.25039146 -0.12422899]\n",
            " [-0.42435775  1.12815215 -0.25039146  0.14752193]\n",
            " [-0.40703703 -0.88640526 -0.25039146  0.10870037]\n",
            " [-0.3897163   1.12815215 -0.25039146 -0.08540743]\n",
            " [-0.37239558 -0.88640526 -0.25039146  0.06987881]\n",
            " [-0.35507485 -0.88640526 -0.25039146 -0.3183368 ]\n",
            " [-0.33775413  1.12815215 -0.25039146  0.03105725]\n",
            " [-0.3204334   1.12815215 -0.25039146  0.18634349]\n",
            " [-0.30311268  1.12815215 -0.25039146 -0.35715836]\n",
            " [-0.28579196 -0.88640526 -0.25039146 -0.24069368]\n",
            " [-0.26847123 -0.88640526 -0.25039146  0.26398661]\n",
            " [-0.25115051  1.12815215 -0.25039146 -0.16305055]\n",
            " [-0.23382978 -0.88640526 -0.13588317  0.30280817]\n",
            " [-0.21650906 -0.88640526 -0.13588317  0.18634349]\n",
            " [-0.19918833 -0.88640526 -0.09771374  0.38045129]\n",
            " [-0.18186761 -0.88640526 -0.09771374 -0.16305055]\n",
            " [-0.16454688 -0.88640526 -0.05954431  0.18634349]\n",
            " [-0.14722616  1.12815215 -0.05954431 -0.35715836]\n",
            " [-0.12990543  1.12815215 -0.02137488 -0.04658587]\n",
            " [-0.11258471 -0.88640526 -0.02137488 -0.39597992]\n",
            " [-0.09526399 -0.88640526 -0.02137488 -0.3183368 ]\n",
            " [-0.07794326  1.12815215 -0.02137488  0.06987881]\n",
            " [-0.06062254 -0.88640526 -0.02137488 -0.12422899]\n",
            " [-0.04330181 -0.88640526 -0.02137488 -0.00776431]\n",
            " [-0.02598109  1.12815215  0.01679455 -0.3183368 ]\n",
            " [-0.00866036  1.12815215  0.01679455 -0.04658587]\n",
            " [ 0.00866036 -0.88640526  0.05496398 -0.35715836]\n",
            " [ 0.02598109 -0.88640526  0.05496398 -0.08540743]\n",
            " [ 0.04330181  1.12815215  0.05496398  0.34162973]\n",
            " [ 0.06062254  1.12815215  0.05496398  0.18634349]\n",
            " [ 0.07794326  1.12815215  0.05496398  0.22516505]\n",
            " [ 0.09526399 -0.88640526  0.05496398 -0.3183368 ]\n",
            " [ 0.11258471 -0.88640526  0.09313341 -0.00776431]\n",
            " [ 0.12990543  1.12815215  0.09313341 -0.16305055]\n",
            " [ 0.14722616  1.12815215  0.09313341 -0.27951524]\n",
            " [ 0.16454688  1.12815215  0.09313341 -0.08540743]\n",
            " [ 0.18186761  1.12815215  0.09313341  0.06987881]\n",
            " [ 0.19918833 -0.88640526  0.09313341  0.14752193]\n",
            " [ 0.21650906 -0.88640526  0.13130284 -0.3183368 ]\n",
            " [ 0.23382978  1.12815215  0.13130284 -0.16305055]\n",
            " [ 0.25115051 -0.88640526  0.16947227 -0.08540743]\n",
            " [ 0.26847123 -0.88640526  0.16947227 -0.00776431]\n",
            " [ 0.28579196 -0.88640526  0.16947227 -0.27951524]\n",
            " [ 0.30311268 -0.88640526  0.16947227  0.34162973]\n",
            " [ 0.3204334  -0.88640526  0.24581112 -0.27951524]\n",
            " [ 0.33775413 -0.88640526  0.24581112  0.26398661]\n",
            " [ 0.35507485  1.12815215  0.24581112  0.22516505]\n",
            " [ 0.37239558 -0.88640526  0.24581112 -0.39597992]\n",
            " [ 0.3897163  -0.88640526  0.32214998  0.30280817]\n",
            " [ 0.40703703  1.12815215  0.32214998  1.58391968]\n",
            " [ 0.42435775 -0.88640526  0.36031941 -0.82301709]\n",
            " [ 0.44167848 -0.88640526  0.36031941  1.04041783]\n",
            " [ 0.4589992   1.12815215  0.39848884 -0.59008772]\n",
            " [ 0.47631993  1.12815215  0.39848884  1.73920592]\n",
            " [ 0.49364065  1.12815215  0.39848884 -1.52180518]\n",
            " [ 0.51096138  1.12815215  0.39848884  0.96277471]\n",
            " [ 0.5282821   1.12815215  0.39848884 -1.5994483 ]\n",
            " [ 0.54560282  1.12815215  0.39848884  0.96277471]\n",
            " [ 0.56292355 -0.88640526  0.43665827 -0.62890928]\n",
            " [ 0.58024427 -0.88640526  0.43665827  0.80748846]\n",
            " [ 0.597565    1.12815215  0.4748277  -1.75473454]\n",
            " [ 0.61488572 -0.88640526  0.4748277   1.46745499]\n",
            " [ 0.63220645 -0.88640526  0.4748277  -1.67709142]\n",
            " [ 0.64952717  1.12815215  0.4748277   0.88513158]\n",
            " [ 0.6668479   1.12815215  0.51299713 -1.56062674]\n",
            " [ 0.68416862 -0.88640526  0.51299713  0.84631002]\n",
            " [ 0.70148935 -0.88640526  0.55116656 -1.75473454]\n",
            " [ 0.71881007  1.12815215  0.55116656  1.6615628 ]\n",
            " [ 0.73613079 -0.88640526  0.58933599 -0.39597992]\n",
            " [ 0.75345152 -0.88640526  0.58933599  1.42863343]\n",
            " [ 0.77077224  1.12815215  0.62750542 -1.48298362]\n",
            " [ 0.78809297  1.12815215  0.62750542  1.81684904]\n",
            " [ 0.80541369  1.12815215  0.62750542 -0.55126616]\n",
            " [ 0.82273442 -0.88640526  0.62750542  0.92395314]\n",
            " [ 0.84005514 -0.88640526  0.66567484 -1.09476801]\n",
            " [ 0.85737587  1.12815215  0.66567484  1.54509812]\n",
            " [ 0.87469659  1.12815215  0.66567484 -1.28887582]\n",
            " [ 0.89201732  1.12815215  0.66567484  1.46745499]\n",
            " [ 0.90933804 -0.88640526  0.66567484 -1.17241113]\n",
            " [ 0.92665877 -0.88640526  0.66567484  1.00159627]\n",
            " [ 0.94397949 -0.88640526  0.66567484 -1.32769738]\n",
            " [ 0.96130021 -0.88640526  0.66567484  1.50627656]\n",
            " [ 0.97862094  1.12815215  0.66567484 -1.91002079]\n",
            " [ 0.99594166 -0.88640526  0.66567484  1.07923939]\n",
            " [ 1.01326239  1.12815215  0.66567484 -1.91002079]\n",
            " [ 1.03058311 -0.88640526  0.66567484  0.88513158]\n",
            " [ 1.04790384 -0.88640526  0.70384427 -0.59008772]\n",
            " [ 1.06522456 -0.88640526  0.70384427  1.27334719]\n",
            " [ 1.08254529  1.12815215  0.78018313 -1.75473454]\n",
            " [ 1.09986601 -0.88640526  0.78018313  1.6615628 ]\n",
            " [ 1.11718674  1.12815215  0.93286085 -0.93948177]\n",
            " [ 1.13450746 -0.88640526  0.93286085  0.96277471]\n",
            " [ 1.15182818  1.12815215  0.97103028 -1.17241113]\n",
            " [ 1.16914891 -0.88640526  0.97103028  1.73920592]\n",
            " [ 1.18646963 -0.88640526  1.00919971 -0.90066021]\n",
            " [ 1.20379036  1.12815215  1.00919971  0.49691598]\n",
            " [ 1.22111108  1.12815215  1.00919971 -1.44416206]\n",
            " [ 1.23843181  1.12815215  1.00919971  0.96277471]\n",
            " [ 1.25575253  1.12815215  1.00919971 -1.56062674]\n",
            " [ 1.27307326  1.12815215  1.00919971  1.62274124]\n",
            " [ 1.29039398 -0.88640526  1.04736914 -1.44416206]\n",
            " [ 1.30771471 -0.88640526  1.04736914  1.38981187]\n",
            " [ 1.32503543  1.12815215  1.04736914 -1.36651894]\n",
            " [ 1.34235616  1.12815215  1.04736914  0.72984534]\n",
            " [ 1.35967688  1.12815215  1.23821628 -1.4053405 ]\n",
            " [ 1.3769976   1.12815215  1.23821628  1.54509812]\n",
            " [ 1.39431833 -0.88640526  1.390894   -0.7065524 ]\n",
            " [ 1.41163905 -0.88640526  1.390894    1.38981187]\n",
            " [ 1.42895978  1.12815215  1.42906343 -1.36651894]\n",
            " [ 1.4462805  -0.88640526  1.42906343  1.46745499]\n",
            " [ 1.46360123 -0.88640526  1.46723286 -0.43480148]\n",
            " [ 1.48092195  1.12815215  1.46723286  1.81684904]\n",
            " [ 1.49824268 -0.88640526  1.54357172 -1.01712489]\n",
            " [ 1.5155634   1.12815215  1.54357172  0.69102378]\n",
            " [ 1.53288413 -0.88640526  1.61991057 -1.28887582]\n",
            " [ 1.55020485 -0.88640526  1.61991057  1.35099031]\n",
            " [ 1.56752558 -0.88640526  1.61991057 -1.05594645]\n",
            " [ 1.5848463  -0.88640526  1.61991057  0.72984534]\n",
            " [ 1.60216702  1.12815215  2.00160487 -1.63826986]\n",
            " [ 1.61948775 -0.88640526  2.00160487  1.58391968]\n",
            " [ 1.63680847 -0.88640526  2.26879087 -1.32769738]\n",
            " [ 1.6541292  -0.88640526  2.26879087  1.11806095]\n",
            " [ 1.67144992 -0.88640526  2.49780745 -0.86183865]\n",
            " [ 1.68877065  1.12815215  2.49780745  0.92395314]\n",
            " [ 1.70609137  1.12815215  2.91767117 -1.25005425]\n",
            " [ 1.7234121   1.12815215  2.91767117  1.27334719]]\n"
          ]
        }
      ]
    },
    {
      "cell_type": "code",
      "execution_count": 178,
      "metadata": {
        "colab": {
          "base_uri": "https://localhost:8080/",
          "height": 424
        },
        "id": "zG5r846aLIfv",
        "outputId": "19f8f73a-68e1-4f0a-c605-3efb56223e18"
      },
      "outputs": [
        {
          "output_type": "execute_result",
          "data": {
            "text/plain": [
              "     CustomerID    Gender  annual_income  spending_score\n",
              "0     -1.723412  1.128152      -1.738999       -0.434801\n",
              "1     -1.706091  1.128152      -1.738999        1.195704\n",
              "2     -1.688771 -0.886405      -1.700830       -1.715913\n",
              "3     -1.671450 -0.886405      -1.700830        1.040418\n",
              "4     -1.654129 -0.886405      -1.662660       -0.395980\n",
              "..          ...       ...            ...             ...\n",
              "195    1.654129 -0.886405       2.268791        1.118061\n",
              "196    1.671450 -0.886405       2.497807       -0.861839\n",
              "197    1.688771  1.128152       2.497807        0.923953\n",
              "198    1.706091  1.128152       2.917671       -1.250054\n",
              "199    1.723412  1.128152       2.917671        1.273347\n",
              "\n",
              "[200 rows x 4 columns]"
            ],
            "text/html": [
              "\n",
              "  <div id=\"df-2425981f-8bd5-4ba8-9c51-0a05911379a5\">\n",
              "    <div class=\"colab-df-container\">\n",
              "      <div>\n",
              "<style scoped>\n",
              "    .dataframe tbody tr th:only-of-type {\n",
              "        vertical-align: middle;\n",
              "    }\n",
              "\n",
              "    .dataframe tbody tr th {\n",
              "        vertical-align: top;\n",
              "    }\n",
              "\n",
              "    .dataframe thead th {\n",
              "        text-align: right;\n",
              "    }\n",
              "</style>\n",
              "<table border=\"1\" class=\"dataframe\">\n",
              "  <thead>\n",
              "    <tr style=\"text-align: right;\">\n",
              "      <th></th>\n",
              "      <th>CustomerID</th>\n",
              "      <th>Gender</th>\n",
              "      <th>annual_income</th>\n",
              "      <th>spending_score</th>\n",
              "    </tr>\n",
              "  </thead>\n",
              "  <tbody>\n",
              "    <tr>\n",
              "      <th>0</th>\n",
              "      <td>-1.723412</td>\n",
              "      <td>1.128152</td>\n",
              "      <td>-1.738999</td>\n",
              "      <td>-0.434801</td>\n",
              "    </tr>\n",
              "    <tr>\n",
              "      <th>1</th>\n",
              "      <td>-1.706091</td>\n",
              "      <td>1.128152</td>\n",
              "      <td>-1.738999</td>\n",
              "      <td>1.195704</td>\n",
              "    </tr>\n",
              "    <tr>\n",
              "      <th>2</th>\n",
              "      <td>-1.688771</td>\n",
              "      <td>-0.886405</td>\n",
              "      <td>-1.700830</td>\n",
              "      <td>-1.715913</td>\n",
              "    </tr>\n",
              "    <tr>\n",
              "      <th>3</th>\n",
              "      <td>-1.671450</td>\n",
              "      <td>-0.886405</td>\n",
              "      <td>-1.700830</td>\n",
              "      <td>1.040418</td>\n",
              "    </tr>\n",
              "    <tr>\n",
              "      <th>4</th>\n",
              "      <td>-1.654129</td>\n",
              "      <td>-0.886405</td>\n",
              "      <td>-1.662660</td>\n",
              "      <td>-0.395980</td>\n",
              "    </tr>\n",
              "    <tr>\n",
              "      <th>...</th>\n",
              "      <td>...</td>\n",
              "      <td>...</td>\n",
              "      <td>...</td>\n",
              "      <td>...</td>\n",
              "    </tr>\n",
              "    <tr>\n",
              "      <th>195</th>\n",
              "      <td>1.654129</td>\n",
              "      <td>-0.886405</td>\n",
              "      <td>2.268791</td>\n",
              "      <td>1.118061</td>\n",
              "    </tr>\n",
              "    <tr>\n",
              "      <th>196</th>\n",
              "      <td>1.671450</td>\n",
              "      <td>-0.886405</td>\n",
              "      <td>2.497807</td>\n",
              "      <td>-0.861839</td>\n",
              "    </tr>\n",
              "    <tr>\n",
              "      <th>197</th>\n",
              "      <td>1.688771</td>\n",
              "      <td>1.128152</td>\n",
              "      <td>2.497807</td>\n",
              "      <td>0.923953</td>\n",
              "    </tr>\n",
              "    <tr>\n",
              "      <th>198</th>\n",
              "      <td>1.706091</td>\n",
              "      <td>1.128152</td>\n",
              "      <td>2.917671</td>\n",
              "      <td>-1.250054</td>\n",
              "    </tr>\n",
              "    <tr>\n",
              "      <th>199</th>\n",
              "      <td>1.723412</td>\n",
              "      <td>1.128152</td>\n",
              "      <td>2.917671</td>\n",
              "      <td>1.273347</td>\n",
              "    </tr>\n",
              "  </tbody>\n",
              "</table>\n",
              "<p>200 rows × 4 columns</p>\n",
              "</div>\n",
              "      <button class=\"colab-df-convert\" onclick=\"convertToInteractive('df-2425981f-8bd5-4ba8-9c51-0a05911379a5')\"\n",
              "              title=\"Convert this dataframe to an interactive table.\"\n",
              "              style=\"display:none;\">\n",
              "        \n",
              "  <svg xmlns=\"http://www.w3.org/2000/svg\" height=\"24px\"viewBox=\"0 0 24 24\"\n",
              "       width=\"24px\">\n",
              "    <path d=\"M0 0h24v24H0V0z\" fill=\"none\"/>\n",
              "    <path d=\"M18.56 5.44l.94 2.06.94-2.06 2.06-.94-2.06-.94-.94-2.06-.94 2.06-2.06.94zm-11 1L8.5 8.5l.94-2.06 2.06-.94-2.06-.94L8.5 2.5l-.94 2.06-2.06.94zm10 10l.94 2.06.94-2.06 2.06-.94-2.06-.94-.94-2.06-.94 2.06-2.06.94z\"/><path d=\"M17.41 7.96l-1.37-1.37c-.4-.4-.92-.59-1.43-.59-.52 0-1.04.2-1.43.59L10.3 9.45l-7.72 7.72c-.78.78-.78 2.05 0 2.83L4 21.41c.39.39.9.59 1.41.59.51 0 1.02-.2 1.41-.59l7.78-7.78 2.81-2.81c.8-.78.8-2.07 0-2.86zM5.41 20L4 18.59l7.72-7.72 1.47 1.35L5.41 20z\"/>\n",
              "  </svg>\n",
              "      </button>\n",
              "      \n",
              "  <style>\n",
              "    .colab-df-container {\n",
              "      display:flex;\n",
              "      flex-wrap:wrap;\n",
              "      gap: 12px;\n",
              "    }\n",
              "\n",
              "    .colab-df-convert {\n",
              "      background-color: #E8F0FE;\n",
              "      border: none;\n",
              "      border-radius: 50%;\n",
              "      cursor: pointer;\n",
              "      display: none;\n",
              "      fill: #1967D2;\n",
              "      height: 32px;\n",
              "      padding: 0 0 0 0;\n",
              "      width: 32px;\n",
              "    }\n",
              "\n",
              "    .colab-df-convert:hover {\n",
              "      background-color: #E2EBFA;\n",
              "      box-shadow: 0px 1px 2px rgba(60, 64, 67, 0.3), 0px 1px 3px 1px rgba(60, 64, 67, 0.15);\n",
              "      fill: #174EA6;\n",
              "    }\n",
              "\n",
              "    [theme=dark] .colab-df-convert {\n",
              "      background-color: #3B4455;\n",
              "      fill: #D2E3FC;\n",
              "    }\n",
              "\n",
              "    [theme=dark] .colab-df-convert:hover {\n",
              "      background-color: #434B5C;\n",
              "      box-shadow: 0px 1px 3px 1px rgba(0, 0, 0, 0.15);\n",
              "      filter: drop-shadow(0px 1px 2px rgba(0, 0, 0, 0.3));\n",
              "      fill: #FFFFFF;\n",
              "    }\n",
              "  </style>\n",
              "\n",
              "      <script>\n",
              "        const buttonEl =\n",
              "          document.querySelector('#df-2425981f-8bd5-4ba8-9c51-0a05911379a5 button.colab-df-convert');\n",
              "        buttonEl.style.display =\n",
              "          google.colab.kernel.accessAllowed ? 'block' : 'none';\n",
              "\n",
              "        async function convertToInteractive(key) {\n",
              "          const element = document.querySelector('#df-2425981f-8bd5-4ba8-9c51-0a05911379a5');\n",
              "          const dataTable =\n",
              "            await google.colab.kernel.invokeFunction('convertToInteractive',\n",
              "                                                     [key], {});\n",
              "          if (!dataTable) return;\n",
              "\n",
              "          const docLinkHtml = 'Like what you see? Visit the ' +\n",
              "            '<a target=\"_blank\" href=https://colab.research.google.com/notebooks/data_table.ipynb>data table notebook</a>'\n",
              "            + ' to learn more about interactive tables.';\n",
              "          element.innerHTML = '';\n",
              "          dataTable['output_type'] = 'display_data';\n",
              "          await google.colab.output.renderOutput(dataTable, element);\n",
              "          const docLink = document.createElement('div');\n",
              "          docLink.innerHTML = docLinkHtml;\n",
              "          element.appendChild(docLink);\n",
              "        }\n",
              "      </script>\n",
              "    </div>\n",
              "  </div>\n",
              "  "
            ]
          },
          "metadata": {},
          "execution_count": 178
        }
      ],
      "source": [
        "X_scaled  = pd.DataFrame(scale, columns = X.columns)\n",
        "X_scaled"
      ]
    },
    {
      "cell_type": "markdown",
      "metadata": {
        "id": "NuVRL4gLLYOK"
      },
      "source": [
        "9. Perform any of the clustering algorithms"
      ]
    },
    {
      "cell_type": "code",
      "execution_count": 179,
      "metadata": {
        "colab": {
          "base_uri": "https://localhost:8080/",
          "height": 295
        },
        "id": "EM-sE8bZLSNx",
        "outputId": "164ef514-a23c-4b76-c2e3-c5478a4ebbda"
      },
      "outputs": [
        {
          "output_type": "display_data",
          "data": {
            "text/plain": [
              "<Figure size 432x288 with 1 Axes>"
            ],
            "image/png": "[encoded data removed]"
          },
          "metadata": {
            "needs_background": "light"
          }
        }
      ],
      "source": [
        "from sklearn.cluster import KMeans\n",
        "\n",
        "wcss = []\n",
        "for i in range(1, 11):\n",
        "  km = KMeans(n_clusters = i, init = 'k-means++', max_iter = 300, n_init = 10, random_state = 0)\n",
        "  km.fit(x)\n",
        "  wcss.append(km.inertia_)\n",
        "  \n",
        "plt.plot(range(1, 11), wcss)\n",
        "plt.title('The Elbow Method')\n",
        "plt.xlabel('No. of Clusters')\n",
        "plt.ylabel('wcss')\n",
        "plt.show()"
      ]
    },
    {
      "cell_type": "code",
      "execution_count": 180,
      "metadata": {
        "colab": {
          "base_uri": "https://localhost:8080/",
          "height": 295
        },
        "id": "Xpf5LatELbL9",
        "outputId": "6cc64a97-07b4-44c2-f809-7c4c80feb260"
      },
      "outputs": [
        {
          "output_type": "display_data",
          "data": {
            "text/plain": [
              "<Figure size 432x288 with 1 Axes>"
            ],
            "image/png": "[encoded data removed]"
          },
          "metadata": {
            "needs_background": "light"
          }
        }
      ],
      "source": [
        "km = KMeans(n_clusters = 5, init = 'k-means++', max_iter = 300, n_init = 10, random_state = 0)\n",
        "y_means = km.fit_predict(x)\n",
        "\n",
        "plt.scatter(x[y_means == 0, 0], x[y_means == 0, 1], s = 100, c = 'pink', label = 'miser')\n",
        "plt.scatter(x[y_means == 1, 0], x[y_means == 1, 1], s = 100, c = 'yellow', label = 'general')\n",
        "plt.scatter(x[y_means == 2, 0], x[y_means == 2, 1], s = 100, c = 'cyan', label = 'target')\n",
        "plt.scatter(x[y_means == 3, 0], x[y_means == 3, 1], s = 100, c = 'magenta', label = 'spendthrift')\n",
        "plt.scatter(x[y_means == 4, 0], x[y_means == 4, 1], s = 100, c = 'orange', label = 'careful')\n",
        "plt.scatter(km.cluster_centers_[:,0], km.cluster_centers_[:, 1], s = 50, c = 'blue' , label = 'centeroid')\n",
        "\n",
        "plt.title('K Means Clustering')\n",
        "plt.xlabel('Annual Income')\n",
        "plt.ylabel('Spending Score')\n",
        "plt.legend()\n",
        "plt.show()"
      ]
    },
    {
      "cell_type": "markdown",
      "metadata": {
        "id": "lhiuG4j9MsaV"
      },
      "source": [
        "11. Split the data into dependent and independent\n",
        "variables.\n"
      ]
    },
    {
      "cell_type": "code",
      "execution_count": 181,
      "metadata": {
        "id": "Lew7Ezc8LjHM"
      },
      "outputs": [],
      "source": [
        "df1=dataframe[[\"CustomerID\",\"Gender\",\"Age\",\"annual_income\",\"spending_score\"]]\n",
        "X=df1[[\"annual_income\",\"spending_score\"]]"
      ]
    },
    {
      "cell_type": "markdown",
      "metadata": {
        "id": "K1HFjjSjNEQQ"
      },
      "source": [
        "12. Split the data into training and testing\n"
      ]
    },
    {
      "cell_type": "code",
      "source": [
        "from sklearn.model_selection import train_test_split\n",
        "X_train, X_test, Y_train, Y_test = train_test_split(X_scaled, Y, test_size=0.20, random_state=0)\n"
      ],
      "metadata": {
        "id": "zZijtYumazMQ"
      },
      "execution_count": 182,
      "outputs": []
    },
    {
      "cell_type": "code",
      "source": [
        "X_train.shape"
      ],
      "metadata": {
        "colab": {
          "base_uri": "https://localhost:8080/"
        },
        "id": "P1co8OYibOg-",
        "outputId": "027a912b-e378-4294-f23b-1796e0325482"
      },
      "execution_count": 183,
      "outputs": [
        {
          "output_type": "execute_result",
          "data": {
            "text/plain": [
              "(160, 4)"
            ]
          },
          "metadata": {},
          "execution_count": 183
        }
      ]
    },
    {
      "cell_type": "code",
      "source": [
        "Y_train.shape"
      ],
      "metadata": {
        "colab": {
          "base_uri": "https://localhost:8080/"
        },
        "id": "HCaP3439bQSe",
        "outputId": "63ce976e-7fd6-4620-e91f-a44477d1d59a"
      },
      "execution_count": 184,
      "outputs": [
        {
          "output_type": "execute_result",
          "data": {
            "text/plain": [
              "(160,)"
            ]
          },
          "metadata": {},
          "execution_count": 184
        }
      ]
    },
    {
      "cell_type": "code",
      "source": [
        "Y_test.shape"
      ],
      "metadata": {
        "colab": {
          "base_uri": "https://localhost:8080/"
        },
        "id": "KlZHh8PubRnQ",
        "outputId": "291be7df-c6c6-427e-c40d-e70895e05c6f"
      },
      "execution_count": 185,
      "outputs": [
        {
          "output_type": "execute_result",
          "data": {
            "text/plain": [
              "(40,)"
            ]
          },
          "metadata": {},
          "execution_count": 185
        }
      ]
    },
    {
      "cell_type": "markdown",
      "source": [
        "13. Build the Model"
      ],
      "metadata": {
        "id": "xopKeKn0a4Z6"
      }
    },
    {
      "cell_type": "code",
      "execution_count": 186,
      "metadata": {
        "colab": {
          "base_uri": "https://localhost:8080/",
          "height": 206
        },
        "id": "udaqhFahM_8p",
        "outputId": "076ffdc5-7d3a-4c3b-f6c7-20f9b183503d"
      },
      "outputs": [
        {
          "output_type": "execute_result",
          "data": {
            "text/plain": [
              "   annual_income  spending_score\n",
              "0             15              39\n",
              "1             15              81\n",
              "2             16               6\n",
              "3             16              77\n",
              "4             17              40"
            ],
            "text/html": [
              "\n",
              "  <div id=\"df-d90584e3-5280-4245-ba68-b21a44c40ae6\">\n",
              "    <div class=\"colab-df-container\">\n",
              "      <div>\n",
              "<style scoped>\n",
              "    .dataframe tbody tr th:only-of-type {\n",
              "        vertical-align: middle;\n",
              "    }\n",
              "\n",
              "    .dataframe tbody tr th {\n",
              "        vertical-align: top;\n",
              "    }\n",
              "\n",
              "    .dataframe thead th {\n",
              "        text-align: right;\n",
              "    }\n",
              "</style>\n",
              "<table border=\"1\" class=\"dataframe\">\n",
              "  <thead>\n",
              "    <tr style=\"text-align: right;\">\n",
              "      <th></th>\n",
              "      <th>annual_income</th>\n",
              "      <th>spending_score</th>\n",
              "    </tr>\n",
              "  </thead>\n",
              "  <tbody>\n",
              "    <tr>\n",
              "      <th>0</th>\n",
              "      <td>15</td>\n",
              "      <td>39</td>\n",
              "    </tr>\n",
              "    <tr>\n",
              "      <th>1</th>\n",
              "      <td>15</td>\n",
              "      <td>81</td>\n",
              "    </tr>\n",
              "    <tr>\n",
              "      <th>2</th>\n",
              "      <td>16</td>\n",
              "      <td>6</td>\n",
              "    </tr>\n",
              "    <tr>\n",
              "      <th>3</th>\n",
              "      <td>16</td>\n",
              "      <td>77</td>\n",
              "    </tr>\n",
              "    <tr>\n",
              "      <th>4</th>\n",
              "      <td>17</td>\n",
              "      <td>40</td>\n",
              "    </tr>\n",
              "  </tbody>\n",
              "</table>\n",
              "</div>\n",
              "      <button class=\"colab-df-convert\" onclick=\"convertToInteractive('df-d90584e3-5280-4245-ba68-b21a44c40ae6')\"\n",
              "              title=\"Convert this dataframe to an interactive table.\"\n",
              "              style=\"display:none;\">\n",
              "        \n",
              "  <svg xmlns=\"http://www.w3.org/2000/svg\" height=\"24px\"viewBox=\"0 0 24 24\"\n",
              "       width=\"24px\">\n",
              "    <path d=\"M0 0h24v24H0V0z\" fill=\"none\"/>\n",
              "    <path d=\"M18.56 5.44l.94 2.06.94-2.06 2.06-.94-2.06-.94-.94-2.06-.94 2.06-2.06.94zm-11 1L8.5 8.5l.94-2.06 2.06-.94-2.06-.94L8.5 2.5l-.94 2.06-2.06.94zm10 10l.94 2.06.94-2.06 2.06-.94-2.06-.94-.94-2.06-.94 2.06-2.06.94z\"/><path d=\"M17.41 7.96l-1.37-1.37c-.4-.4-.92-.59-1.43-.59-.52 0-1.04.2-1.43.59L10.3 9.45l-7.72 7.72c-.78.78-.78 2.05 0 2.83L4 21.41c.39.39.9.59 1.41.59.51 0 1.02-.2 1.41-.59l7.78-7.78 2.81-2.81c.8-.78.8-2.07 0-2.86zM5.41 20L4 18.59l7.72-7.72 1.47 1.35L5.41 20z\"/>\n",
              "  </svg>\n",
              "      </button>\n",
              "      \n",
              "  <style>\n",
              "    .colab-df-container {\n",
              "      display:flex;\n",
              "      flex-wrap:wrap;\n",
              "      gap: 12px;\n",
              "    }\n",
              "\n",
              "    .colab-df-convert {\n",
              "      background-color: #E8F0FE;\n",
              "      border: none;\n",
              "      border-radius: 50%;\n",
              "      cursor: pointer;\n",
              "      display: none;\n",
              "      fill: #1967D2;\n",
              "      height: 32px;\n",
              "      padding: 0 0 0 0;\n",
              "      width: 32px;\n",
              "    }\n",
              "\n",
              "    .colab-df-convert:hover {\n",
              "      background-color: #E2EBFA;\n",
              "      box-shadow: 0px 1px 2px rgba(60, 64, 67, 0.3), 0px 1px 3px 1px rgba(60, 64, 67, 0.15);\n",
              "      fill: #174EA6;\n",
              "    }\n",
              "\n",
              "    [theme=dark] .colab-df-convert {\n",
              "      background-color: #3B4455;\n",
              "      fill: #D2E3FC;\n",
              "    }\n",
              "\n",
              "    [theme=dark] .colab-df-convert:hover {\n",
              "      background-color: #434B5C;\n",
              "      box-shadow: 0px 1px 3px 1px rgba(0, 0, 0, 0.15);\n",
              "      filter: drop-shadow(0px 1px 2px rgba(0, 0, 0, 0.3));\n",
              "      fill: #FFFFFF;\n",
              "    }\n",
              "  </style>\n",
              "\n",
              "      <script>\n",
              "        const buttonEl =\n",
              "          document.querySelector('#df-d90584e3-5280-4245-ba68-b21a44c40ae6 button.colab-df-convert');\n",
              "        buttonEl.style.display =\n",
              "          google.colab.kernel.accessAllowed ? 'block' : 'none';\n",
              "\n",
              "        async function convertToInteractive(key) {\n",
              "          const element = document.querySelector('#df-d90584e3-5280-4245-ba68-b21a44c40ae6');\n",
              "          const dataTable =\n",
              "            await google.colab.kernel.invokeFunction('convertToInteractive',\n",
              "                                                     [key], {});\n",
              "          if (!dataTable) return;\n",
              "\n",
              "          const docLinkHtml = 'Like what you see? Visit the ' +\n",
              "            '<a target=\"_blank\" href=https://colab.research.google.com/notebooks/data_table.ipynb>data table notebook</a>'\n",
              "            + ' to learn more about interactive tables.';\n",
              "          element.innerHTML = '';\n",
              "          dataTable['output_type'] = 'display_data';\n",
              "          await google.colab.output.renderOutput(dataTable, element);\n",
              "          const docLink = document.createElement('div');\n",
              "          docLink.innerHTML = docLinkHtml;\n",
              "          element.appendChild(docLink);\n",
              "        }\n",
              "      </script>\n",
              "    </div>\n",
              "  </div>\n",
              "  "
            ]
          },
          "metadata": {},
          "execution_count": 186
        }
      ],
      "source": [
        "X.head()"
      ]
    },
    {
      "cell_type": "markdown",
      "metadata": {
        "id": "CXYxb7t3NtjM"
      },
      "source": [
        "14. Train the Model"
      ]
    },
    {
      "cell_type": "code",
      "execution_count": 187,
      "metadata": {
        "id": "v9hPjL_mNNG7"
      },
      "outputs": [],
      "source": [
        "wcss=[]\n",
        "for i in range(1,11):\n",
        "    km=KMeans(n_clusters=i)\n",
        "    km.fit(X)\n",
        "    wcss.append(km.inertia_)"
      ]
    },
    {
      "cell_type": "code",
      "execution_count": 188,
      "metadata": {
        "colab": {
          "base_uri": "https://localhost:8080/",
          "height": 332
        },
        "id": "5T26u6c2Nwm3",
        "outputId": "7d60a88c-bc65-4620-ddab-135671886721"
      },
      "outputs": [
        {
          "output_type": "display_data",
          "data": {
            "text/plain": [
              "<Figure size 864x432 with 1 Axes>"
            ],
            "image/png": "[encoded data removed]"
          },
          "metadata": {
            "needs_background": "light"
          }
        }
      ],
      "source": [
        "import numpy as np\n",
        "plt.figure(figsize=(12,6))\n",
        "plt.plot(range(1,11),wcss)\n",
        "plt.plot(range(1,11),wcss, linewidth=2, color=\"red\", marker =\"8\")\n",
        "plt.xlabel(\"K Value\")\n",
        "plt.xticks(np.arange(1,11,1))\n",
        "plt.ylabel(\"WCSS\")\n",
        "plt.show()"
      ]
    },
    {
      "cell_type": "markdown",
      "metadata": {
        "id": "2QFdPUzNN7lI"
      },
      "source": [
        "15. Test the Model"
      ]
    },
    {
      "cell_type": "code",
      "execution_count": 189,
      "metadata": {
        "colab": {
          "base_uri": "https://localhost:8080/",
          "height": 206
        },
        "id": "hFZpAHjbNztz",
        "outputId": "cb63e236-38d1-43e4-a807-e59ef22776e6"
      },
      "outputs": [
        {
          "output_type": "execute_result",
          "data": {
            "text/plain": [
              "   CustomerID  Gender  Age  annual_income  spending_score  label\n",
              "0           1       1   19             15              39      4\n",
              "1           2       1   21             15              81      3\n",
              "2           3       0   20             16               6      4\n",
              "3           4       0   23             16              77      3\n",
              "4           5       0   31             17              40      4"
            ],
            "text/html": [
              "\n",
              "  <div id=\"df-60d92c89-2dce-4d7f-b18f-39af5a6fcb23\">\n",
              "    <div class=\"colab-df-container\">\n",
              "      <div>\n",
              "<style scoped>\n",
              "    .dataframe tbody tr th:only-of-type {\n",
              "        vertical-align: middle;\n",
              "    }\n",
              "\n",
              "    .dataframe tbody tr th {\n",
              "        vertical-align: top;\n",
              "    }\n",
              "\n",
              "    .dataframe thead th {\n",
              "        text-align: right;\n",
              "    }\n",
              "</style>\n",
              "<table border=\"1\" class=\"dataframe\">\n",
              "  <thead>\n",
              "    <tr style=\"text-align: right;\">\n",
              "      <th></th>\n",
              "      <th>CustomerID</th>\n",
              "      <th>Gender</th>\n",
              "      <th>Age</th>\n",
              "      <th>annual_income</th>\n",
              "      <th>spending_score</th>\n",
              "      <th>label</th>\n",
              "    </tr>\n",
              "  </thead>\n",
              "  <tbody>\n",
              "    <tr>\n",
              "      <th>0</th>\n",
              "      <td>1</td>\n",
              "      <td>1</td>\n",
              "      <td>19</td>\n",
              "      <td>15</td>\n",
              "      <td>39</td>\n",
              "      <td>4</td>\n",
              "    </tr>\n",
              "    <tr>\n",
              "      <th>1</th>\n",
              "      <td>2</td>\n",
              "      <td>1</td>\n",
              "      <td>21</td>\n",
              "      <td>15</td>\n",
              "      <td>81</td>\n",
              "      <td>3</td>\n",
              "    </tr>\n",
              "    <tr>\n",
              "      <th>2</th>\n",
              "      <td>3</td>\n",
              "      <td>0</td>\n",
              "      <td>20</td>\n",
              "      <td>16</td>\n",
              "      <td>6</td>\n",
              "      <td>4</td>\n",
              "    </tr>\n",
              "    <tr>\n",
              "      <th>3</th>\n",
              "      <td>4</td>\n",
              "      <td>0</td>\n",
              "      <td>23</td>\n",
              "      <td>16</td>\n",
              "      <td>77</td>\n",
              "      <td>3</td>\n",
              "    </tr>\n",
              "    <tr>\n",
              "      <th>4</th>\n",
              "      <td>5</td>\n",
              "      <td>0</td>\n",
              "      <td>31</td>\n",
              "      <td>17</td>\n",
              "      <td>40</td>\n",
              "      <td>4</td>\n",
              "    </tr>\n",
              "  </tbody>\n",
              "</table>\n",
              "</div>\n",
              "      <button class=\"colab-df-convert\" onclick=\"convertToInteractive('df-60d92c89-2dce-4d7f-b18f-39af5a6fcb23')\"\n",
              "              title=\"Convert this dataframe to an interactive table.\"\n",
              "              style=\"display:none;\">\n",
              "        \n",
              "  <svg xmlns=\"http://www.w3.org/2000/svg\" height=\"24px\"viewBox=\"0 0 24 24\"\n",
              "       width=\"24px\">\n",
              "    <path d=\"M0 0h24v24H0V0z\" fill=\"none\"/>\n",
              "    <path d=\"M18.56 5.44l.94 2.06.94-2.06 2.06-.94-2.06-.94-.94-2.06-.94 2.06-2.06.94zm-11 1L8.5 8.5l.94-2.06 2.06-.94-2.06-.94L8.5 2.5l-.94 2.06-2.06.94zm10 10l.94 2.06.94-2.06 2.06-.94-2.06-.94-.94-2.06-.94 2.06-2.06.94z\"/><path d=\"M17.41 7.96l-1.37-1.37c-.4-.4-.92-.59-1.43-.59-.52 0-1.04.2-1.43.59L10.3 9.45l-7.72 7.72c-.78.78-.78 2.05 0 2.83L4 21.41c.39.39.9.59 1.41.59.51 0 1.02-.2 1.41-.59l7.78-7.78 2.81-2.81c.8-.78.8-2.07 0-2.86zM5.41 20L4 18.59l7.72-7.72 1.47 1.35L5.41 20z\"/>\n",
              "  </svg>\n",
              "      </button>\n",
              "      \n",
              "  <style>\n",
              "    .colab-df-container {\n",
              "      display:flex;\n",
              "      flex-wrap:wrap;\n",
              "      gap: 12px;\n",
              "    }\n",
              "\n",
              "    .colab-df-convert {\n",
              "      background-color: #E8F0FE;\n",
              "      border: none;\n",
              "      border-radius: 50%;\n",
              "      cursor: pointer;\n",
              "      display: none;\n",
              "      fill: #1967D2;\n",
              "      height: 32px;\n",
              "      padding: 0 0 0 0;\n",
              "      width: 32px;\n",
              "    }\n",
              "\n",
              "    .colab-df-convert:hover {\n",
              "      background-color: #E2EBFA;\n",
              "      box-shadow: 0px 1px 2px rgba(60, 64, 67, 0.3), 0px 1px 3px 1px rgba(60, 64, 67, 0.15);\n",
              "      fill: #174EA6;\n",
              "    }\n",
              "\n",
              "    [theme=dark] .colab-df-convert {\n",
              "      background-color: #3B4455;\n",
              "      fill: #D2E3FC;\n",
              "    }\n",
              "\n",
              "    [theme=dark] .colab-df-convert:hover {\n",
              "      background-color: #434B5C;\n",
              "      box-shadow: 0px 1px 3px 1px rgba(0, 0, 0, 0.15);\n",
              "      filter: drop-shadow(0px 1px 2px rgba(0, 0, 0, 0.3));\n",
              "      fill: #FFFFFF;\n",
              "    }\n",
              "  </style>\n",
              "\n",
              "      <script>\n",
              "        const buttonEl =\n",
              "          document.querySelector('#df-60d92c89-2dce-4d7f-b18f-39af5a6fcb23 button.colab-df-convert');\n",
              "        buttonEl.style.display =\n",
              "          google.colab.kernel.accessAllowed ? 'block' : 'none';\n",
              "\n",
              "        async function convertToInteractive(key) {\n",
              "          const element = document.querySelector('#df-60d92c89-2dce-4d7f-b18f-39af5a6fcb23');\n",
              "          const dataTable =\n",
              "            await google.colab.kernel.invokeFunction('convertToInteractive',\n",
              "                                                     [key], {});\n",
              "          if (!dataTable) return;\n",
              "\n",
              "          const docLinkHtml = 'Like what you see? Visit the ' +\n",
              "            '<a target=\"_blank\" href=https://colab.research.google.com/notebooks/data_table.ipynb>data table notebook</a>'\n",
              "            + ' to learn more about interactive tables.';\n",
              "          element.innerHTML = '';\n",
              "          dataTable['output_type'] = 'display_data';\n",
              "          await google.colab.output.renderOutput(dataTable, element);\n",
              "          const docLink = document.createElement('div');\n",
              "          docLink.innerHTML = docLinkHtml;\n",
              "          element.appendChild(docLink);\n",
              "        }\n",
              "      </script>\n",
              "    </div>\n",
              "  </div>\n",
              "  "
            ]
          },
          "metadata": {},
          "execution_count": 189
        }
      ],
      "source": [
        "km1=KMeans(n_clusters=5)\n",
        "km1.fit(X)\n",
        "y=km1.predict(X)\n",
        "df1[\"label\"] = y\n",
        "df1.head()"
      ]
    },
    {
      "cell_type": "code",
      "execution_count": 190,
      "metadata": {
        "colab": {
          "base_uri": "https://localhost:8080/",
          "height": 404
        },
        "id": "KqZveGUbOESu",
        "outputId": "56e6de74-bb95-49e9-ab2f-07d0cf9410ad"
      },
      "outputs": [
        {
          "output_type": "display_data",
          "data": {
            "text/plain": [
              "<Figure size 720x432 with 1 Axes>"
            ],
            "image/png": "[encoded data removed]"
          },
          "metadata": {
            "needs_background": "light"
          }
        }
      ],
      "source": [
        "plt.figure(figsize=(10,6))\n",
        "sns.scatterplot(x = 'annual_income',y = 'spending_score',hue=\"label\",  \n",
        "                 palette=['green','orange','brown','dodgerblue','red'], legend='full',data = df1  ,s = 60 )\n",
        "plt.xlabel('Annual Income (k$)')\n",
        "plt.ylabel('Spending Score (1-100)') \n",
        "plt.title('Spending Score (1-100) vs Annual Income (k$)')\n",
        "plt.show()"
      ]
    },
    {
      "cell_type": "markdown",
      "metadata": {
        "id": "AqvRFi3pOSfm"
      },
      "source": [
        "16. Measure the performance using Evaluation Metrics"
      ]
    },
    {
      "cell_type": "code",
      "execution_count": 191,
      "metadata": {
        "colab": {
          "base_uri": "https://localhost:8080/",
          "height": 332
        },
        "id": "EcfhpFkzONEE",
        "outputId": "412da241-c7d5-444e-905e-47909da69dd4"
      },
      "outputs": [
        {
          "output_type": "display_data",
          "data": {
            "text/plain": [
              "<Figure size 864x432 with 1 Axes>"
            ],
            "image/png": "[encoded data removed]"
          },
          "metadata": {
            "needs_background": "light"
          }
        }
      ],
      "source": [
        "X2=df1[[\"Age\",\"annual_income\",\"spending_score\"]]\n",
        "wcss = []\n",
        "for k in range(1,11):\n",
        "    kmeans = KMeans(n_clusters=k, init=\"k-means++\")\n",
        "    kmeans.fit(X2)\n",
        "    wcss.append(kmeans.inertia_)\n",
        "plt.figure(figsize=(12,6))    \n",
        "plt.plot(range(1,11),wcss, linewidth=2, color=\"red\", marker =\"8\")\n",
        "plt.xlabel(\"K Value\")\n",
        "plt.xticks(np.arange(1,11,1))\n",
        "plt.ylabel(\"WCSS\")\n",
        "plt.show()"
      ]
    },
    {
      "cell_type": "code",
      "execution_count": 192,
      "metadata": {
        "colab": {
          "base_uri": "https://localhost:8080/"
        },
        "id": "xQL6XBgfOfEB",
        "outputId": "f7d2c539-3e6f-409d-cd01-fb57e5498bee"
      },
      "outputs": [
        {
          "output_type": "stream",
          "name": "stdout",
          "text": [
            "Number of customer in 1st group= 39\n",
            "They are - [124 126 128 130 132 134 136 138 140 142 144 146 148 150 152 154 156 158\n",
            " 160 162 164 166 168 170 172 174 176 178 180 182 184 186 188 190 192 194\n",
            " 196 198 200]\n",
            "--------------------------------------------\n",
            "Number of customer in 2nd group= 35\n",
            "They are - [125 129 131 135 137 139 141 145 147 149 151 153 155 157 159 161 163 165\n",
            " 167 169 171 173 175 177 179 181 183 185 187 189 191 193 195 197 199]\n",
            "--------------------------------------------\n",
            "Number of customer in 3rd group= 81\n",
            "They are - [ 44  47  48  49  50  51  52  53  54  55  56  57  58  59  60  61  62  63\n",
            "  64  65  66  67  68  69  70  71  72  73  74  75  76  77  78  79  80  81\n",
            "  82  83  84  85  86  87  88  89  90  91  92  93  94  95  96  97  98  99\n",
            " 100 101 102 103 104 105 106 107 108 109 110 111 112 113 114 115 116 117\n",
            " 118 119 120 121 122 123 127 133 143]\n",
            "--------------------------------------------\n",
            "Number of customer in 4th group= 22\n",
            "They are - [ 2  4  6  8 10 12 14 16 18 20 22 24 26 28 30 32 34 36 38 40 42 46]\n",
            "--------------------------------------------\n",
            "Number of customer in 5th group= 23\n",
            "They are - [ 1  3  5  7  9 11 13 15 17 19 21 23 25 27 29 31 33 35 37 39 41 43 45]\n",
            "--------------------------------------------\n"
          ]
        }
      ],
      "source": [
        "cust1=df1[df1[\"label\"]==1]\n",
        "print('Number of customer in 1st group=', len(cust1))\n",
        "print('They are -', cust1[\"CustomerID\"].values)\n",
        "print(\"--------------------------------------------\")\n",
        "cust2=df1[df1[\"label\"]==2]\n",
        "print('Number of customer in 2nd group=', len(cust2))\n",
        "print('They are -', cust2[\"CustomerID\"].values)\n",
        "print(\"--------------------------------------------\")\n",
        "cust3=df1[df1[\"label\"]==0]\n",
        "print('Number of customer in 3rd group=', len(cust3))\n",
        "print('They are -', cust3[\"CustomerID\"].values)\n",
        "print(\"--------------------------------------------\")\n",
        "cust4=df1[df1[\"label\"]==3]\n",
        "print('Number of customer in 4th group=', len(cust4))\n",
        "print('They are -', cust4[\"CustomerID\"].values)\n",
        "print(\"--------------------------------------------\")\n",
        "cust5=df1[df1[\"label\"]==4]\n",
        "print('Number of customer in 5th group=', len(cust5))\n",
        "print('They are -', cust5[\"CustomerID\"].values)\n",
        "print(\"--------------------------------------------\")"
      ]
    }
  ],
  "metadata": {
    "colab": {
      "provenance": [],
      "collapsed_sections": []
    },
    "kernelspec": {
      "display_name": "Python 3 (ipykernel)",
      "language": "python",
      "name": "python3"
    },
    "language_info": {
      "codemirror_mode": {
        "name": "ipython",
        "version": 3
      },
      "file_extension": ".py",
      "mimetype": "text/x-python",
      "name": "python",
      "nbconvert_exporter": "python",
      "pygments_lexer": "ipython3",
      "version": "3.10.6"
    }
  },
  "nbformat": 4,
  "nbformat_minor": 0
}